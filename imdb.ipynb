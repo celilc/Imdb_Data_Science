{
 "cells": [
  {
   "cell_type": "code",
   "execution_count": 1,
   "metadata": {},
   "outputs": [],
   "source": [
    "import pandas as pd #DataFrame yapısı oluşturmak için\n",
    "from bs4 import BeautifulSoup # Web Scraping yapmak için\n",
    "import requests\n",
    "from tqdm import tqdm # Döngüleri izlemek için"
   ]
  },
  {
   "cell_type": "code",
   "execution_count": 2,
   "metadata": {},
   "outputs": [],
   "source": [
    "url = \"https://www.imdb.com/list/ls068082370/\" #Resmi imdb sayfasının url'sini url değişkenine atadık"
   ]
  },
  {
   "cell_type": "code",
   "execution_count": 3,
   "metadata": {},
   "outputs": [],
   "source": [
    "def all_page_link(start_url): #Saklamak istediğimiz tüm urlleri bize bulan fonksiyon\n",
    "    all_urls = []\n",
    "    url = start_url\n",
    "    while(url != None):            #Gerekli tüm web sayfaları ara ve son sayfaya gelince döngüden çık\n",
    "        all_urls.append(url)\n",
    "        soup = BeautifulSoup(requests.get(url).text,\"html.parser\")\n",
    "        next_links = soup.find_all(class_='flat-button lister-page-next next-page')    #Sonraki sayfa bağlantısını çıkartır\n",
    "        if (len(next_links) == 0):         # Bir sonraki sayfa değilse 0 döndür\n",
    "            url = None\n",
    "        else:\n",
    "            next_page = \"https://www.imdb.com\" + next_links[0].get('href')\n",
    "            url = next_page\n",
    "    return all_urls"
   ]
  },
  {
   "cell_type": "code",
   "execution_count": 4,
   "metadata": {},
   "outputs": [],
   "source": [
    "# Bu fonksiyonu url den veri ayıklama esnasında aynı satırda bulundukları için director ve actor'u ayırmak için kullandım\n",
    "def director_and_star_converter(Director_and_star):\n",
    "    Director_and_star =  Director_and_star.replace(\"\\n\",\"\")\n",
    "    Director_and_star = Director_and_star.replace(\"|\",\"\")\n",
    "    Director_and_star = Director_and_star.split(\"Stars:\")\n",
    "    Director_and_star[0] = Director_and_star[0].replace(\"Director:\",\"\")\n",
    "    Director_and_star[0] = Director_and_star[0].replace(\"Directors:\",\"\")\n",
    "    for i in range(10):\n",
    "        Director_and_star[0]=Director_and_star[0].replace(\"  \",\" \")\n",
    "    director = Director_and_star[0][1:]\n",
    "    stars = Director_and_star[1]\n",
    "    stars = stars.replace(\":\",\"\")\n",
    "    return director,stars"
   ]
  },
  {
   "cell_type": "code",
   "execution_count": 6,
   "metadata": {},
   "outputs": [],
   "source": [
    "# Yine aynı satırda bulundukları için ayrıştırma fonksiyonu kullanıyoruz.\n",
    "def votes_and_gross_converter(votes_and_gross):\n",
    "    votes_and_gross_list = []\n",
    "    for i in votes_and_gross:\n",
    "        votes_and_gross_list.append(i.text)\n",
    "    if(len(votes_and_gross)==2):\n",
    "        votes=votes_and_gross_list[0]\n",
    "        gross = votes_and_gross_list[1]\n",
    "    else:\n",
    "        votes=votes_and_gross_list[0]\n",
    "        gross = None\n",
    "    \n",
    "    return votes,gross"
   ]
  },
  {
   "cell_type": "code",
   "execution_count": 43,
   "metadata": {},
   "outputs": [
    {
     "name": "stderr",
     "output_type": "stream",
     "text": [
      "100%|████████████████████████████████████████████████████████████████████████████████████| 3/3 [00:13<00:00,  4.35s/it]\n"
     ]
    }
   ],
   "source": [
    "# Burada tüm ana işlemleri yapıyoruz.\n",
    "main_array = [] # Tüm verileri saklayan dizi\n",
    "for url in tqdm(all_page_link(\"https://www.imdb.com/list/ls068082370/\")):     # Tüm sayfalar için fonksiyonu çalıştırır. Aynı zamanda tqdm sayesinde progress barda oluşturur\n",
    "    soup = BeautifulSoup(requests.get(url).text,\"html.parser\")         # Ana html kodunu çıkartır.\n",
    "    for link in soup.find_all(class_='lister-item-content'):\n",
    "        Rank = int(link.find('span',{\"class\":\"lister-item-index unbold text-primary\"}).text[:-1]) # Filmin id'sini saklar\n",
    "        Title = link.find('a').text # Filmin adını saklar\n",
    "        Year = link.find('span',{\"class\":\"lister-item-year text-muted unbold\"}).text # Filmin çıkış tarihini saklar.\n",
    "        Runtime = int(link.find('span',{\"class\":\"runtime\"}).text[:-4]) # Filmin uzunluğunu saklar.\n",
    "        Genre = link.find('span',{\"class\":\"genre\"}).text[1:] # Filmin türünü saklar.\n",
    "        Rating = float(link.find('span',{\"class\":\"ipl-rating-star__rating\"}).text) # Filmin imdb puanını saklar.\n",
    "        About = link.find_all('p')[1].text[5:] # Film hakkında kısa bir açıklama depolar\n",
    "        Metascore = link.find('span', class_='metascore').text if link.find('span', class_='metascore') else '-' #Filmin metascore puanını saklar.\n",
    "        Director,Actors = director_and_star_converter(link.find_all('p',{\"class\":\"text-muted text-small\"})[1].text) # Yönetmen ve oyuncuların adını saklar.\n",
    "        Votes, Gross = votes_and_gross_converter(link.find_all('span',{\"name\":\"nv\"})) # Filmin oy sayısını ve gelirini saklar.\n",
    "        Votes = int(Votes.replace(\",\",\"\")) # Oylar verisini int veri tipine dönüştürür.\n",
    "        Metascore = int(Metascore.replace(\"-\",\"50\")) # Metascore verisini int veri tipine dönüştürür.\n",
    "        list_of_all = [Rank,Title,Year,Runtime,Genre,Rating,About,Director,Actors,Votes,Gross,Metascore] # Bütün verileri list_of_all değişkenini aktarır.\n",
    "        main_array.append(list_of_all) # list_of_all u ana dizimize ekledik."
   ]
  },
  {
   "cell_type": "code",
   "execution_count": 50,
   "metadata": {},
   "outputs": [],
   "source": [
    "# index değişkeni dataframe in sütun adlarını tanımlar.\n",
    "index = [\"Rank\",\"Title\",\"Year\",\"Runtime\",\"Genre\",\"Rating\",\"About\",\"Director\",\"Actors\",\"Votes\",\"Gross\",\"Metascore\"]"
   ]
  },
  {
   "cell_type": "code",
   "execution_count": 51,
   "metadata": {},
   "outputs": [],
   "source": [
    "df = pd.DataFrame(main_array,columns=index)   # main_array'da sakladığım veriler ile bir dataframe oluşturdum\n"
   ]
  },
  {
   "cell_type": "code",
   "execution_count": 52,
   "metadata": {},
   "outputs": [
    {
     "data": {
      "text/html": [
       "<div>\n",
       "<style scoped>\n",
       "    .dataframe tbody tr th:only-of-type {\n",
       "        vertical-align: middle;\n",
       "    }\n",
       "\n",
       "    .dataframe tbody tr th {\n",
       "        vertical-align: top;\n",
       "    }\n",
       "\n",
       "    .dataframe thead th {\n",
       "        text-align: right;\n",
       "    }\n",
       "</style>\n",
       "<table border=\"1\" class=\"dataframe\">\n",
       "  <thead>\n",
       "    <tr style=\"text-align: right;\">\n",
       "      <th></th>\n",
       "      <th>Rank</th>\n",
       "      <th>Title</th>\n",
       "      <th>Year</th>\n",
       "      <th>Runtime</th>\n",
       "      <th>Genre</th>\n",
       "      <th>Rating</th>\n",
       "      <th>About</th>\n",
       "      <th>Director</th>\n",
       "      <th>Actors</th>\n",
       "      <th>Votes</th>\n",
       "      <th>Gross</th>\n",
       "      <th>Metascore</th>\n",
       "    </tr>\n",
       "  </thead>\n",
       "  <tbody>\n",
       "    <tr>\n",
       "      <td>0</td>\n",
       "      <td>1</td>\n",
       "      <td>The Shawshank Redemption</td>\n",
       "      <td>1994</td>\n",
       "      <td>142</td>\n",
       "      <td>Drama</td>\n",
       "      <td>9.3</td>\n",
       "      <td>Two imprisoned men bond over a number of years...</td>\n",
       "      <td>Frank Darabont</td>\n",
       "      <td>Tim Robbins, Morgan Freeman, Bob Gunton, Willi...</td>\n",
       "      <td>2261592</td>\n",
       "      <td>28.34</td>\n",
       "      <td>80</td>\n",
       "    </tr>\n",
       "    <tr>\n",
       "      <td>1</td>\n",
       "      <td>2</td>\n",
       "      <td>The Godfather</td>\n",
       "      <td>1972</td>\n",
       "      <td>175</td>\n",
       "      <td>Crime, Drama</td>\n",
       "      <td>9.2</td>\n",
       "      <td>The aging patriarch of an organized crime dyna...</td>\n",
       "      <td>Francis Ford Coppola</td>\n",
       "      <td>Marlon Brando, Al Pacino, James Caan, Diane Ke...</td>\n",
       "      <td>1560378</td>\n",
       "      <td>134.97</td>\n",
       "      <td>100</td>\n",
       "    </tr>\n",
       "    <tr>\n",
       "      <td>2</td>\n",
       "      <td>3</td>\n",
       "      <td>The Dark Knight</td>\n",
       "      <td>2008</td>\n",
       "      <td>152</td>\n",
       "      <td>Action, Crime, Drama</td>\n",
       "      <td>9.0</td>\n",
       "      <td>When the menace known as the Joker wreaks havo...</td>\n",
       "      <td>Christopher Nolan</td>\n",
       "      <td>Christian Bale, Heath Ledger, Aaron Eckhart, M...</td>\n",
       "      <td>2226619</td>\n",
       "      <td>534.86</td>\n",
       "      <td>84</td>\n",
       "    </tr>\n",
       "    <tr>\n",
       "      <td>3</td>\n",
       "      <td>4</td>\n",
       "      <td>The Godfather: Part II</td>\n",
       "      <td>1974</td>\n",
       "      <td>202</td>\n",
       "      <td>Crime, Drama</td>\n",
       "      <td>9.0</td>\n",
       "      <td>The early life and career of Vito Corleone in ...</td>\n",
       "      <td>Francis Ford Coppola</td>\n",
       "      <td>Al Pacino, Robert De Niro, Robert Duvall, Dian...</td>\n",
       "      <td>1090504</td>\n",
       "      <td>57.30</td>\n",
       "      <td>90</td>\n",
       "    </tr>\n",
       "    <tr>\n",
       "      <td>4</td>\n",
       "      <td>5</td>\n",
       "      <td>Pulp Fiction</td>\n",
       "      <td>1994</td>\n",
       "      <td>154</td>\n",
       "      <td>Crime, Drama</td>\n",
       "      <td>8.9</td>\n",
       "      <td>The lives of two mob hitmen, a boxer, a gangst...</td>\n",
       "      <td>Quentin Tarantino</td>\n",
       "      <td>John Travolta, Uma Thurman, Samuel L. Jackson,...</td>\n",
       "      <td>1769128</td>\n",
       "      <td>107.93</td>\n",
       "      <td>94</td>\n",
       "    </tr>\n",
       "  </tbody>\n",
       "</table>\n",
       "</div>"
      ],
      "text/plain": [
       "   Rank                     Title  Year  Runtime  \\\n",
       "0     1  The Shawshank Redemption  1994      142   \n",
       "1     2             The Godfather  1972      175   \n",
       "2     3           The Dark Knight  2008      152   \n",
       "3     4    The Godfather: Part II  1974      202   \n",
       "4     5              Pulp Fiction  1994      154   \n",
       "\n",
       "                              Genre  Rating  \\\n",
       "0                 Drama                 9.3   \n",
       "1          Crime, Drama                 9.2   \n",
       "2  Action, Crime, Drama                 9.0   \n",
       "3          Crime, Drama                 9.0   \n",
       "4          Crime, Drama                 8.9   \n",
       "\n",
       "                                               About               Director  \\\n",
       "0  Two imprisoned men bond over a number of years...        Frank Darabont    \n",
       "1  The aging patriarch of an organized crime dyna...  Francis Ford Coppola    \n",
       "2  When the menace known as the Joker wreaks havo...     Christopher Nolan    \n",
       "3  The early life and career of Vito Corleone in ...  Francis Ford Coppola    \n",
       "4  The lives of two mob hitmen, a boxer, a gangst...     Quentin Tarantino    \n",
       "\n",
       "                                              Actors    Votes   Gross  \\\n",
       "0  Tim Robbins, Morgan Freeman, Bob Gunton, Willi...  2261592   28.34   \n",
       "1  Marlon Brando, Al Pacino, James Caan, Diane Ke...  1560378  134.97   \n",
       "2  Christian Bale, Heath Ledger, Aaron Eckhart, M...  2226619  534.86   \n",
       "3  Al Pacino, Robert De Niro, Robert Duvall, Dian...  1090504   57.30   \n",
       "4  John Travolta, Uma Thurman, Samuel L. Jackson,...  1769128  107.93   \n",
       "\n",
       "   Metascore  \n",
       "0         80  \n",
       "1        100  \n",
       "2         84  \n",
       "3         90  \n",
       "4         94  "
      ]
     },
     "execution_count": 52,
     "metadata": {},
     "output_type": "execute_result"
    }
   ],
   "source": [
    "df['Year'] = df['Year'].str.extract('(\\d+)').astype(int) # Year değişkeninde ki fazlalıkları atıp int veri tipine dönüştürüyor.\n",
    " \n",
    "df['Gross'] = df['Gross'].astype(float) # Gross değişkenini float veri tipine dönüştürüyor.\n",
    "\n",
    "df.head(5)"
   ]
  },
  {
   "cell_type": "code",
   "execution_count": 54,
   "metadata": {},
   "outputs": [
    {
     "name": "stdout",
     "output_type": "stream",
     "text": [
      "<class 'pandas.core.frame.DataFrame'>\n",
      "RangeIndex: 250 entries, 0 to 249\n",
      "Data columns (total 12 columns):\n",
      "Rank         250 non-null int64\n",
      "Title        250 non-null object\n",
      "Year         250 non-null int32\n",
      "Runtime      250 non-null int64\n",
      "Genre        250 non-null object\n",
      "Rating       250 non-null float64\n",
      "About        250 non-null object\n",
      "Director     250 non-null object\n",
      "Actors       250 non-null object\n",
      "Votes        250 non-null int64\n",
      "Gross        224 non-null float64\n",
      "Metascore    250 non-null int64\n",
      "dtypes: float64(2), int32(1), int64(4), object(5)\n",
      "memory usage: 22.6+ KB\n"
     ]
    }
   ],
   "source": [
    "df.info()"
   ]
  },
  {
   "cell_type": "code",
   "execution_count": 55,
   "metadata": {},
   "outputs": [],
   "source": [
    "    df.to_csv(\"imdb_top250.csv\")"
   ]
  }
 ],
 "metadata": {
  "kernelspec": {
   "display_name": "Python 3",
   "language": "python",
   "name": "python3"
  },
  "language_info": {
   "codemirror_mode": {
    "name": "ipython",
    "version": 3
   },
   "file_extension": ".py",
   "mimetype": "text/x-python",
   "name": "python",
   "nbconvert_exporter": "python",
   "pygments_lexer": "ipython3",
   "version": "3.7.4"
  }
 },
 "nbformat": 4,
 "nbformat_minor": 4
}
